{
 "cells": [
  {
   "cell_type": "code",
   "execution_count": 1,
   "id": "1ea29b4e-ef4b-4d6b-af55-513d0f13c2d7",
   "metadata": {},
   "outputs": [],
   "source": [
    "import pandas as pd\n",
    "import numpy as np\n",
    "import matplotlib.pyplot as plt\n",
    "%matplotlib inline\n",
    "from skimage.io import imread, imshow\n",
    "from skimage import filters\n",
    "\n",
    "from dhashpy import DHash"
   ]
  },
  {
   "cell_type": "code",
   "execution_count": 2,
   "id": "874c0e75-0914-484c-8951-337dd3d3625b",
   "metadata": {},
   "outputs": [
    {
     "data": {
      "text/plain": [
       "DHash(hash=0b1000110110010011100100101011001110100011111000011110000111000101, hash_hex=0x8d9392b3a3e1e1c5, path=UPLOADED_IMAGE.jpg)"
      ]
     },
     "execution_count": 2,
     "metadata": {},
     "output_type": "execute_result"
    }
   ],
   "source": [
    "file = \"UPLOADED_IMAGE.jpg\"\n",
    "dhash_file = DHash(file)\n",
    "dhash_file"
   ]
  },
  {
   "cell_type": "code",
   "execution_count": 3,
   "id": "96dea696-5507-4d95-bd80-1a74781ab895",
   "metadata": {},
   "outputs": [
    {
     "name": "stdout",
     "output_type": "stream",
     "text": [
      "0b1000110110010011100100101011001110100011111000011110000111000101\n"
     ]
    }
   ],
   "source": [
    "print(dhash_file)"
   ]
  },
  {
   "cell_type": "code",
   "execution_count": 4,
   "id": "96d5864f-4282-4ae0-aa9a-4d769b1ae93e",
   "metadata": {},
   "outputs": [
    {
     "name": "stdout",
     "output_type": "stream",
     "text": [
      "0x8d9392b3a3e1e1c5\n"
     ]
    }
   ],
   "source": [
    "print(dhash_file.hash_hex)\n"
   ]
  },
  {
   "cell_type": "code",
   "execution_count": 19,
   "id": "d83c24c6-7e9e-4167-8d8c-4a0d51562b65",
   "metadata": {},
   "outputs": [
    {
     "data": {
      "text/plain": [
       "DHash(hash=0b1001101110110010101100101011001110100111111000111110011111000111, hash_hex=0x9bb2b2b3a7e3e7c7, path=IMAGES/Skyfall - Glass Marksman Shot (1080p)-Scene-014-02.jpg)"
      ]
     },
     "execution_count": 19,
     "metadata": {},
     "output_type": "execute_result"
    }
   ],
   "source": [
    "file2 = \"IMAGES/Skyfall - Glass Marksman Shot (1080p)-Scene-014-02.jpg\"\n",
    "dhash_file2 = DHash(file2)\n",
    "dhash_file2"
   ]
  },
  {
   "cell_type": "code",
   "execution_count": 20,
   "id": "4815913b-6893-44b2-83a6-fa74b3e38826",
   "metadata": {},
   "outputs": [
    {
     "name": "stdout",
     "output_type": "stream",
     "text": [
      "0b1001101110110010101100101011001110100111111000111110011111000111\n"
     ]
    }
   ],
   "source": [
    "print(dhash_file2)"
   ]
  },
  {
   "cell_type": "code",
   "execution_count": 22,
   "id": "aaed4604-d0a1-42ae-bc98-30eb8314d5bc",
   "metadata": {},
   "outputs": [
    {
     "name": "stdout",
     "output_type": "stream",
     "text": [
      "0x9bb2b2b3a7e3e7c7\n"
     ]
    }
   ],
   "source": [
    "print(dhash_file2.hash_hex)\n"
   ]
  },
  {
   "cell_type": "code",
   "execution_count": 24,
   "id": "8d6d1899-c13a-45f0-bee1-189db1d246dd",
   "metadata": {},
   "outputs": [
    {
     "data": {
      "text/plain": [
       "66"
      ]
     },
     "execution_count": 24,
     "metadata": {},
     "output_type": "execute_result"
    }
   ],
   "source": [
    "len(dhash_file)\n"
   ]
  },
  {
   "cell_type": "code",
   "execution_count": 25,
   "id": "f4e61a86-32d2-49ae-9010-799b1b052717",
   "metadata": {},
   "outputs": [
    {
     "data": {
      "text/plain": [
       "66"
      ]
     },
     "execution_count": 25,
     "metadata": {},
     "output_type": "execute_result"
    }
   ],
   "source": [
    "len(dhash_file2)"
   ]
  },
  {
   "cell_type": "code",
   "execution_count": null,
   "id": "30074b46-d999-4de9-aa45-7e534ac79391",
   "metadata": {},
   "outputs": [],
   "source": []
  }
 ],
 "metadata": {
  "kernelspec": {
   "display_name": "Python 3 (ipykernel)",
   "language": "python",
   "name": "python3"
  },
  "language_info": {
   "codemirror_mode": {
    "name": "ipython",
    "version": 3
   },
   "file_extension": ".py",
   "mimetype": "text/x-python",
   "name": "python",
   "nbconvert_exporter": "python",
   "pygments_lexer": "ipython3",
   "version": "3.9.13"
  }
 },
 "nbformat": 4,
 "nbformat_minor": 5
}
